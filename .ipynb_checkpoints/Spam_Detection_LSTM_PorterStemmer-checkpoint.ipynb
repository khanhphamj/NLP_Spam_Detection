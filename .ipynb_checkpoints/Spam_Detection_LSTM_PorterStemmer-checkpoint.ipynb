{
 "cells": [
  {
   "cell_type": "code",
   "execution_count": 1,
   "id": "7e5c5646",
   "metadata": {},
   "outputs": [],
   "source": [
    "import numpy as np\n",
    "import seaborn as sns\n",
    "import pandas as pd\n",
    "import matplotlib.pyplot as plt\n",
    "import re\n",
    "import string\n",
    "import nltk\n",
    "from nltk.tokenize import word_tokenize\n",
    "from nltk.corpus import stopwords\n",
    "from nltk.stem import PorterStemmer, WordNetLemmatizer\n",
    "from sklearn.naive_bayes import MultinomialNB\n",
    "from sklearn.svm import SVC\n",
    "from sklearn.tree import DecisionTreeClassifier\n",
    "from sklearn.linear_model import LogisticRegression\n",
    "from sklearn.metrics import classification_report, confusion_matrix\n",
    "from sklearn.model_selection import train_test_split\n",
    "from sklearn.feature_extraction.text import TfidfVectorizer\n",
    "from sklearn.metrics import accuracy_score\n",
    "import tensorflow\n",
    "from tensorflow import keras\n",
    "from keras.models import Sequential\n",
    "from keras.layers import Embedding,LSTM,Dense,Dropout,Flatten\n",
    "from keras.preprocessing.text import Tokenizer\n",
    "from keras.preprocessing.sequence import pad_sequences\n",
    "from keras.preprocessing.text import one_hot\n",
    "from tensorflow.keras.utils import to_categorical\n",
    "from sklearn.preprocessing import LabelEncoder\n",
    "import warnings\n",
    "warnings.filterwarnings('ignore')\n",
    "import time\n",
    "from wordcloud import WordCloud"
   ]
  },
  {
   "cell_type": "code",
   "execution_count": 20,
   "id": "a3159ac8",
   "metadata": {},
   "outputs": [
    {
     "name": "stdout",
     "output_type": "stream",
     "text": [
      "Collecting scikeras\n",
      "  Downloading scikeras-0.12.0-py3-none-any.whl (27 kB)\n",
      "Requirement already satisfied: packaging>=0.21 in c:\\users\\admin\\anaconda3\\lib\\site-packages (from scikeras) (22.0)\n",
      "Requirement already satisfied: tensorflow-io-gcs-filesystem<0.32,>=0.23.1 in c:\\users\\admin\\anaconda3\\lib\\site-packages (from scikeras) (0.31.0)\n",
      "Requirement already satisfied: scikit-learn>=1.0.0 in c:\\users\\admin\\anaconda3\\lib\\site-packages (from scikeras) (1.2.1)\n",
      "Requirement already satisfied: threadpoolctl>=2.0.0 in c:\\users\\admin\\anaconda3\\lib\\site-packages (from scikit-learn>=1.0.0->scikeras) (2.2.0)\n",
      "Requirement already satisfied: joblib>=1.1.1 in c:\\users\\admin\\anaconda3\\lib\\site-packages (from scikit-learn>=1.0.0->scikeras) (1.1.1)\n",
      "Requirement already satisfied: numpy>=1.17.3 in c:\\users\\admin\\anaconda3\\lib\\site-packages (from scikit-learn>=1.0.0->scikeras) (1.23.5)\n",
      "Requirement already satisfied: scipy>=1.3.2 in c:\\users\\admin\\anaconda3\\lib\\site-packages (from scikit-learn>=1.0.0->scikeras) (1.10.0)\n",
      "Installing collected packages: scikeras\n",
      "Successfully installed scikeras-0.12.0\n",
      "Note: you may need to restart the kernel to use updated packages.\n"
     ]
    }
   ],
   "source": [
    "#pip install scikeras"
   ]
  },
  {
   "cell_type": "code",
   "execution_count": 2,
   "id": "f84bd12a",
   "metadata": {},
   "outputs": [],
   "source": [
    "data = pd.read_csv('SMSSpamCollection.txt', sep='\\t', header=None, names=['Target', 'Text'])"
   ]
  },
  {
   "cell_type": "code",
   "execution_count": 3,
   "id": "ee375eb6",
   "metadata": {},
   "outputs": [],
   "source": [
    "def expand_abbreviations(senti):\n",
    "    abbreviation_dict = {\n",
    "        \" u \": \" you \",\n",
    "        \"dun\": \"do not\",\n",
    "        \"don\": \"do not\",\n",
    "        \"cant\": \"can not\",\n",
    "        \"pl\": \"please\",\n",
    "        \"dont\": \"do not\"\n",
    "        \n",
    "}\n",
    "    for abbr, expanded in abbreviation_dict.items():\n",
    "        senti = senti.replace(abbr, expanded)\n",
    "    return senti"
   ]
  },
  {
   "cell_type": "code",
   "execution_count": 6,
   "id": "6ab81388",
   "metadata": {},
   "outputs": [
    {
     "name": "stdout",
     "output_type": "stream",
     "text": [
      "Thời gian xử lý sử dụng  Porter Stemmer: 1.99583 giây\n"
     ]
    },
    {
     "data": {
      "text/html": [
       "<div>\n",
       "<style scoped>\n",
       "    .dataframe tbody tr th:only-of-type {\n",
       "        vertical-align: middle;\n",
       "    }\n",
       "\n",
       "    .dataframe tbody tr th {\n",
       "        vertical-align: top;\n",
       "    }\n",
       "\n",
       "    .dataframe thead th {\n",
       "        text-align: right;\n",
       "    }\n",
       "</style>\n",
       "<table border=\"1\" class=\"dataframe\">\n",
       "  <thead>\n",
       "    <tr style=\"text-align: right;\">\n",
       "      <th></th>\n",
       "      <th>Target</th>\n",
       "      <th>Text</th>\n",
       "      <th>PorterStemmer_Text_Process</th>\n",
       "    </tr>\n",
       "  </thead>\n",
       "  <tbody>\n",
       "    <tr>\n",
       "      <th>0</th>\n",
       "      <td>ham</td>\n",
       "      <td>Go until jurong point, crazy.. Available only ...</td>\n",
       "      <td>go jurong point crazi avail bugi n great world...</td>\n",
       "    </tr>\n",
       "    <tr>\n",
       "      <th>1</th>\n",
       "      <td>ham</td>\n",
       "      <td>Ok lar... Joking wif u oni...</td>\n",
       "      <td>ok lar joke wif you oni</td>\n",
       "    </tr>\n",
       "    <tr>\n",
       "      <th>2</th>\n",
       "      <td>spam</td>\n",
       "      <td>Free entry in 2 a wkly comp to win FA Cup fina...</td>\n",
       "      <td>free entri wkli comp win fa cup final tkt st m...</td>\n",
       "    </tr>\n",
       "    <tr>\n",
       "      <th>3</th>\n",
       "      <td>ham</td>\n",
       "      <td>U dun say so early hor... U c already then say...</td>\n",
       "      <td>u do not say earli hor you c alreadi say</td>\n",
       "    </tr>\n",
       "    <tr>\n",
       "      <th>4</th>\n",
       "      <td>ham</td>\n",
       "      <td>Nah I don't think he goes to usf, he lives aro...</td>\n",
       "      <td>nah think goe usf live around though</td>\n",
       "    </tr>\n",
       "  </tbody>\n",
       "</table>\n",
       "</div>"
      ],
      "text/plain": [
       "  Target                                               Text  \\\n",
       "0    ham  Go until jurong point, crazy.. Available only ...   \n",
       "1    ham                      Ok lar... Joking wif u oni...   \n",
       "2   spam  Free entry in 2 a wkly comp to win FA Cup fina...   \n",
       "3    ham  U dun say so early hor... U c already then say...   \n",
       "4    ham  Nah I don't think he goes to usf, he lives aro...   \n",
       "\n",
       "                          PorterStemmer_Text_Process  \n",
       "0  go jurong point crazi avail bugi n great world...  \n",
       "1                            ok lar joke wif you oni  \n",
       "2  free entri wkli comp win fa cup final tkt st m...  \n",
       "3           u do not say earli hor you c alreadi say  \n",
       "4               nah think goe usf live around though  "
      ]
     },
     "execution_count": 6,
     "metadata": {},
     "output_type": "execute_result"
    }
   ],
   "source": [
    "stem = PorterStemmer()\n",
    "stop_words = set(stopwords.words('english'))\n",
    "start_time = time.time()\n",
    "# Preprocess and expand abbreviations for each sentence\n",
    "sentis = []\n",
    "for sen in data['Text']:\n",
    "    senti = re.sub('[^A-Za-z]', ' ', sen)\n",
    "    senti = senti.lower()\n",
    "    words = word_tokenize(senti)\n",
    "    word = [stem.stem(i) for i in words if i not in stop_words]\n",
    "    senti = ' '.join(word)\n",
    "    senti = expand_abbreviations(senti)\n",
    "    sentis.append(senti)\n",
    "\n",
    "end_time = time.time()\n",
    "execution_time = end_time - start_time\n",
    "print(f\"Thời gian xử lý sử dụng  Porter Stemmer: {execution_time:.5f} giây\")\n",
    "data['PorterStemmer_Text_Process'] = sentis\n",
    "data.head(5)"
   ]
  },
  {
   "cell_type": "code",
   "execution_count": 7,
   "id": "071dde38",
   "metadata": {},
   "outputs": [
    {
     "data": {
      "text/plain": [
       "array([[   0,    0,    0, ..., 5204, 7548, 8272],\n",
       "       [   0,    0,    0, ..., 2894, 1445, 5680],\n",
       "       [   0,    0,    0, ..., 5670, 4676, 5550],\n",
       "       ...,\n",
       "       [   0,    0,    0, ...,  457, 4297, 1862],\n",
       "       [   0,    0,    0, ...,  193,  182, 6743],\n",
       "       [   0,    0,    0, ..., 3513, 8894, 6770]])"
      ]
     },
     "execution_count": 7,
     "metadata": {},
     "output_type": "execute_result"
    }
   ],
   "source": [
    "one_hot_sent = [one_hot(i, 10000) for i in data['PorterStemmer_Text_Process']]\n",
    "max_length = max(len(sent) for sent in one_hot_sent)\n",
    "pad_sequences_result = pad_sequences(one_hot_sent, maxlen=80)\n",
    "pad_sequences_result"
   ]
  },
  {
   "cell_type": "code",
   "execution_count": 8,
   "id": "a3e80b09",
   "metadata": {},
   "outputs": [
    {
     "data": {
      "text/plain": [
       "array([[1., 0.],\n",
       "       [1., 0.],\n",
       "       [0., 1.],\n",
       "       ...,\n",
       "       [1., 0.],\n",
       "       [1., 0.],\n",
       "       [1., 0.]], dtype=float32)"
      ]
     },
     "execution_count": 8,
     "metadata": {},
     "output_type": "execute_result"
    }
   ],
   "source": [
    "labels = data['Target']\n",
    "le = LabelEncoder()\n",
    "encoded_labels = to_categorical(le.fit_transform(labels))\n",
    "encoded_labels"
   ]
  },
  {
   "cell_type": "code",
   "execution_count": 9,
   "id": "4da90a16",
   "metadata": {},
   "outputs": [],
   "source": [
    "X = pad_sequences_result\n",
    "y = encoded_labels\n",
    "X_train, X_test, y_train, y_test = train_test_split(X, y, test_size=0.2, random_state=42, shuffle = True)\n",
    "y_test_orig = [np.argmax(i, axis=0) for i in y_test]"
   ]
  },
  {
   "cell_type": "code",
   "execution_count": 10,
   "id": "08959e84",
   "metadata": {},
   "outputs": [
    {
     "data": {
      "text/plain": [
       "((4457, 80), (1115, 80), (4457,), (1115,))"
      ]
     },
     "execution_count": 10,
     "metadata": {},
     "output_type": "execute_result"
    }
   ],
   "source": [
    "X_train_shape = X_train.shape\n",
    "X_test_shape = X_test.shape\n",
    "y_train_shape = (len(y_train),)\n",
    "y_test_shape = (len(y_test),)\n",
    "\n",
    "X_train_shape, X_test_shape, y_train_shape, y_test_shape"
   ]
  },
  {
   "cell_type": "code",
   "execution_count": 11,
   "id": "1bb4c940",
   "metadata": {},
   "outputs": [],
   "source": [
    "model=Sequential()\n",
    "model.add(Embedding(10000,64,input_length=80))\n",
    "model.add(LSTM(100))\n",
    "model.add(Dense(2,activation='sigmoid'))\n",
    "model.compile(loss='binary_crossentropy',metrics=['accuracy'],optimizer='adam')"
   ]
  },
  {
   "cell_type": "code",
   "execution_count": 12,
   "id": "45a97f40",
   "metadata": {},
   "outputs": [
    {
     "name": "stdout",
     "output_type": "stream",
     "text": [
      "Model: \"sequential\"\n",
      "_________________________________________________________________\n",
      " Layer (type)                Output Shape              Param #   \n",
      "=================================================================\n",
      " embedding (Embedding)       (None, 80, 64)            640000    \n",
      "                                                                 \n",
      " lstm (LSTM)                 (None, 100)               66000     \n",
      "                                                                 \n",
      " dense (Dense)               (None, 2)                 202       \n",
      "                                                                 \n",
      "=================================================================\n",
      "Total params: 706202 (2.69 MB)\n",
      "Trainable params: 706202 (2.69 MB)\n",
      "Non-trainable params: 0 (0.00 Byte)\n",
      "_________________________________________________________________\n"
     ]
    }
   ],
   "source": [
    "model.summary()"
   ]
  },
  {
   "cell_type": "code",
   "execution_count": 13,
   "id": "4c69d728",
   "metadata": {},
   "outputs": [
    {
     "name": "stdout",
     "output_type": "stream",
     "text": [
      "Epoch 1/20\n",
      "140/140 [==============================] - 10s 56ms/step - loss: 0.1915 - accuracy: 0.9365 - val_loss: 0.0413 - val_accuracy: 0.9901\n",
      "Epoch 2/20\n",
      "140/140 [==============================] - 7s 53ms/step - loss: 0.0375 - accuracy: 0.9888 - val_loss: 0.0369 - val_accuracy: 0.9919\n",
      "Epoch 3/20\n",
      "140/140 [==============================] - 7s 53ms/step - loss: 0.0149 - accuracy: 0.9962 - val_loss: 0.0383 - val_accuracy: 0.9919\n",
      "Epoch 4/20\n",
      "140/140 [==============================] - 7s 53ms/step - loss: 0.0094 - accuracy: 0.9975 - val_loss: 0.0466 - val_accuracy: 0.9892\n",
      "Epoch 5/20\n",
      "140/140 [==============================] - 8s 56ms/step - loss: 0.0058 - accuracy: 0.9987 - val_loss: 0.0444 - val_accuracy: 0.9901\n",
      "Epoch 6/20\n",
      "140/140 [==============================] - 8s 56ms/step - loss: 0.0068 - accuracy: 0.9982 - val_loss: 0.0403 - val_accuracy: 0.9910\n",
      "Epoch 7/20\n",
      "140/140 [==============================] - 8s 56ms/step - loss: 0.0038 - accuracy: 0.9991 - val_loss: 0.0543 - val_accuracy: 0.9901\n",
      "Epoch 8/20\n",
      "140/140 [==============================] - 8s 56ms/step - loss: 0.0022 - accuracy: 0.9993 - val_loss: 0.0579 - val_accuracy: 0.9901\n",
      "Epoch 9/20\n",
      "140/140 [==============================] - 8s 56ms/step - loss: 0.0036 - accuracy: 0.9987 - val_loss: 0.1075 - val_accuracy: 0.9713\n",
      "Epoch 10/20\n",
      "140/140 [==============================] - 8s 56ms/step - loss: 0.0099 - accuracy: 0.9980 - val_loss: 0.0562 - val_accuracy: 0.9883\n",
      "Epoch 11/20\n",
      "140/140 [==============================] - 8s 58ms/step - loss: 0.0023 - accuracy: 0.9993 - val_loss: 0.0683 - val_accuracy: 0.9865\n",
      "Epoch 12/20\n",
      "140/140 [==============================] - 8s 56ms/step - loss: 9.6222e-04 - accuracy: 0.9998 - val_loss: 0.0732 - val_accuracy: 0.9865\n",
      "Epoch 13/20\n",
      "140/140 [==============================] - 8s 55ms/step - loss: 6.9488e-04 - accuracy: 0.9998 - val_loss: 0.0750 - val_accuracy: 0.9865\n",
      "Epoch 14/20\n",
      "140/140 [==============================] - 8s 56ms/step - loss: 3.5444e-04 - accuracy: 1.0000 - val_loss: 0.0761 - val_accuracy: 0.9883\n",
      "Epoch 15/20\n",
      "140/140 [==============================] - 8s 56ms/step - loss: 2.2753e-04 - accuracy: 1.0000 - val_loss: 0.0782 - val_accuracy: 0.9874\n",
      "Epoch 16/20\n",
      "140/140 [==============================] - 8s 57ms/step - loss: 1.5645e-04 - accuracy: 1.0000 - val_loss: 0.0812 - val_accuracy: 0.9883\n",
      "Epoch 17/20\n",
      "140/140 [==============================] - 8s 59ms/step - loss: 1.1785e-04 - accuracy: 1.0000 - val_loss: 0.0855 - val_accuracy: 0.9874\n",
      "Epoch 18/20\n",
      "140/140 [==============================] - 8s 56ms/step - loss: 8.7105e-05 - accuracy: 1.0000 - val_loss: 0.0881 - val_accuracy: 0.9874\n",
      "Epoch 19/20\n",
      "140/140 [==============================] - 8s 54ms/step - loss: 7.3503e-05 - accuracy: 1.0000 - val_loss: 0.0901 - val_accuracy: 0.9874\n",
      "Epoch 20/20\n",
      "140/140 [==============================] - 7s 53ms/step - loss: 5.5349e-05 - accuracy: 1.0000 - val_loss: 0.0937 - val_accuracy: 0.9865\n"
     ]
    },
    {
     "data": {
      "text/plain": [
       "<keras.src.callbacks.History at 0x23a13545810>"
      ]
     },
     "execution_count": 13,
     "metadata": {},
     "output_type": "execute_result"
    }
   ],
   "source": [
    "model.fit(X_train,y_train,epochs=20,validation_data=(X_test,y_test))"
   ]
  },
  {
   "cell_type": "code",
   "execution_count": 14,
   "id": "2fe9d03d",
   "metadata": {},
   "outputs": [
    {
     "name": "stdout",
     "output_type": "stream",
     "text": [
      "35/35 [==============================] - 1s 15ms/step\n"
     ]
    }
   ],
   "source": [
    "y_pred=model.predict(X_test)\n",
    "y_pred_=[np.argmax(i,axis=0) for i in y_pred]"
   ]
  },
  {
   "cell_type": "code",
   "execution_count": 15,
   "id": "659595ba",
   "metadata": {},
   "outputs": [
    {
     "name": "stdout",
     "output_type": "stream",
     "text": [
      "Độ chính xác của mô hình là 98.65%\n"
     ]
    }
   ],
   "source": [
    "accuracy = accuracy_score(y_test_orig,y_pred_)\n",
    "print(f'Độ chính xác của mô hình là {accuracy*100:.2f}%')"
   ]
  },
  {
   "cell_type": "code",
   "execution_count": 16,
   "id": "471478ea",
   "metadata": {},
   "outputs": [
    {
     "name": "stdout",
     "output_type": "stream",
     "text": [
      "              precision    recall  f1-score   support\n",
      "\n",
      "           0       0.99      1.00      0.99       966\n",
      "           1       0.99      0.91      0.95       149\n",
      "\n",
      "    accuracy                           0.99      1115\n",
      "   macro avg       0.99      0.96      0.97      1115\n",
      "weighted avg       0.99      0.99      0.99      1115\n",
      "\n"
     ]
    }
   ],
   "source": [
    "print(classification_report(y_test_orig,y_pred_))"
   ]
  },
  {
   "cell_type": "code",
   "execution_count": 17,
   "id": "a19cda64",
   "metadata": {},
   "outputs": [
    {
     "data": {
      "image/png": "[encoded data removed]",
      "text/plain": [
       "<Figure size 800x600 with 2 Axes>"
      ]
     },
     "metadata": {},
     "output_type": "display_data"
    }
   ],
   "source": [
    "cm_lstm = confusion_matrix(y_test_orig, y_pred_)\n",
    "labels = list(set(y_test_orig))\n",
    "\n",
    "plt.figure(figsize=(8,6))\n",
    "sns.heatmap(cm_lstm, annot=True, fmt='d', xticklabels=labels, yticklabels=labels)\n",
    "plt.xlabel('Predicted')\n",
    "plt.ylabel('Truth')\n",
    "plt.title('Confusion Matrix LSTM')\n",
    "plt.show()"
   ]
  },
  {
   "cell_type": "markdown",
   "id": "c63889a5",
   "metadata": {},
   "source": [
    "# Evaluation"
   ]
  },
  {
   "cell_type": "code",
   "execution_count": null,
   "id": "bf71cd82",
   "metadata": {},
   "outputs": [],
   "source": [
    "# Thêm drop out + thêm learning rate "
   ]
  },
  {
   "cell_type": "code",
   "execution_count": 38,
   "id": "62d0642f",
   "metadata": {},
   "outputs": [],
   "source": [
    "from keras.layers import Dropout\n",
    "from keras.optimizers import Adam\n",
    "\n",
    "# Tạo mô hình Sequential\n",
    "model = Sequential()\n",
    "\n",
    "# Thêm lớp Embedding\n",
    "model.add(Embedding(10000, 64, input_length=80))\n",
    "\n",
    "# Thêm lớp LSTM với dropout\n",
    "model.add(LSTM(100, dropout=0.1, recurrent_dropout=0.2))\n",
    "\n",
    "# Thêm lớp Dropout giữa LSTM và Dense\n",
    "model.add(Dropout(0.1))\n",
    "\n",
    "# Thêm lớp Dense với activation là sigmoid\n",
    "model.add(Dense(2, activation='sigmoid'))\n",
    "\n",
    "# Tạo optimizer với learning rate\n",
    "optimizer = Adam(learning_rate=0.001)\n",
    "\n",
    "# Compile mô hình\n",
    "model.compile(loss='binary_crossentropy', metrics=['accuracy'], optimizer=optimizer)"
   ]
  },
  {
   "cell_type": "code",
   "execution_count": 39,
   "id": "ebaffb89",
   "metadata": {},
   "outputs": [
    {
     "name": "stdout",
     "output_type": "stream",
     "text": [
      "Epoch 1/10\n",
      "140/140 [==============================] - 12s 64ms/step - loss: 0.2431 - accuracy: 0.9188 - val_loss: 0.0525 - val_accuracy: 0.9830\n",
      "Epoch 2/10\n",
      "140/140 [==============================] - 9s 66ms/step - loss: 0.0482 - accuracy: 0.9865 - val_loss: 0.0371 - val_accuracy: 0.9910\n",
      "Epoch 3/10\n",
      "140/140 [==============================] - 9s 68ms/step - loss: 0.0233 - accuracy: 0.9937 - val_loss: 0.0345 - val_accuracy: 0.9928\n",
      "Epoch 4/10\n",
      "140/140 [==============================] - 10s 70ms/step - loss: 0.0113 - accuracy: 0.9973 - val_loss: 0.0423 - val_accuracy: 0.9892\n",
      "Epoch 5/10\n",
      "140/140 [==============================] - 10s 73ms/step - loss: 0.0073 - accuracy: 0.9984 - val_loss: 0.0419 - val_accuracy: 0.9910\n",
      "Epoch 6/10\n",
      "140/140 [==============================] - 10s 74ms/step - loss: 0.0052 - accuracy: 0.9989 - val_loss: 0.0598 - val_accuracy: 0.9874\n",
      "Epoch 7/10\n",
      "140/140 [==============================] - 10s 74ms/step - loss: 0.0022 - accuracy: 0.9993 - val_loss: 0.0557 - val_accuracy: 0.9883\n",
      "Epoch 8/10\n",
      "140/140 [==============================] - 10s 74ms/step - loss: 0.0016 - accuracy: 0.9998 - val_loss: 0.0609 - val_accuracy: 0.9865\n",
      "Epoch 9/10\n",
      "140/140 [==============================] - 10s 70ms/step - loss: 0.0014 - accuracy: 0.9996 - val_loss: 0.0558 - val_accuracy: 0.9910\n",
      "Epoch 10/10\n",
      "140/140 [==============================] - 10s 70ms/step - loss: 8.7069e-04 - accuracy: 0.9996 - val_loss: 0.0609 - val_accuracy: 0.9892\n"
     ]
    },
    {
     "data": {
      "text/plain": [
       "<keras.src.callbacks.History at 0x23a216f1030>"
      ]
     },
     "execution_count": 39,
     "metadata": {},
     "output_type": "execute_result"
    }
   ],
   "source": [
    "model.fit(X_train,y_train,epochs=10,validation_data=(X_test,y_test))"
   ]
  },
  {
   "cell_type": "code",
   "execution_count": 40,
   "id": "aaf42db6",
   "metadata": {},
   "outputs": [
    {
     "name": "stdout",
     "output_type": "stream",
     "text": [
      "35/35 [==============================] - 1s 21ms/step\n",
      "Độ chính xác của mô hình là 98.92%\n"
     ]
    }
   ],
   "source": [
    "y_pred=model.predict(X_test)\n",
    "y_pred_=[np.argmax(i,axis=0) for i in y_pred]\n",
    "accuracy = accuracy_score(y_test_orig,y_pred_)\n",
    "print(f'Độ chính xác của mô hình là {accuracy*100:.2f}%')"
   ]
  },
  {
   "cell_type": "code",
   "execution_count": null,
   "id": "684af4a6",
   "metadata": {},
   "outputs": [],
   "source": []
  }
 ],
 "metadata": {
  "kernelspec": {
   "display_name": "Python 3 (ipykernel)",
   "language": "python",
   "name": "python3"
  },
  "language_info": {
   "codemirror_mode": {
    "name": "ipython",
    "version": 3
   },
   "file_extension": ".py",
   "mimetype": "text/x-python",
   "name": "python",
   "nbconvert_exporter": "python",
   "pygments_lexer": "ipython3",
   "version": "3.9.13"
  }
 },
 "nbformat": 4,
 "nbformat_minor": 5
}
